{
 "cells": [
  {
   "cell_type": "code",
   "execution_count": 1,
   "id": "872be8e5-10a8-4d2b-95f9-512c7584d94a",
   "metadata": {},
   "outputs": [],
   "source": [
    "#Get weather data: We'll use an API like OpenWeatherMap to fetch current weather data.\n",
    "#Determine sunny conditions: We’ll check for weather conditions like clear skies or \"few clouds\" which typically indicate sunny weather.\n",
    "#Send a notification: You can use a pop-up notification or send an email depending on the notification method you prefer."
   ]
  },
  {
   "cell_type": "code",
   "execution_count": 3,
   "id": "5b1c83f9-010b-4339-afef-2dc3de61538d",
   "metadata": {},
   "outputs": [
    {
     "name": "stdout",
     "output_type": "stream",
     "text": [
      "Requirement already satisfied: requests in c:\\programdata\\anaconda3\\lib\\site-packages (2.32.2)\n",
      "Requirement already satisfied: charset-normalizer<4,>=2 in c:\\programdata\\anaconda3\\lib\\site-packages (from requests) (2.0.4)\n",
      "Requirement already satisfied: idna<4,>=2.5 in c:\\programdata\\anaconda3\\lib\\site-packages (from requests) (3.7)\n",
      "Requirement already satisfied: urllib3<3,>=1.21.1 in c:\\programdata\\anaconda3\\lib\\site-packages (from requests) (2.2.2)\n",
      "Requirement already satisfied: certifi>=2017.4.17 in c:\\programdata\\anaconda3\\lib\\site-packages (from requests) (2024.6.2)\n",
      "Collecting plyer\n",
      "  Downloading plyer-2.1.0-py2.py3-none-any.whl.metadata (61 kB)\n",
      "     ---------------------------------------- 0.0/61.2 kB ? eta -:--:--\n",
      "     ------ --------------------------------- 10.2/61.2 kB ? eta -:--:--\n",
      "     ------------------- ------------------ 30.7/61.2 kB 435.7 kB/s eta 0:00:01\n",
      "     -------------------------------------- 61.2/61.2 kB 462.9 kB/s eta 0:00:00\n",
      "Downloading plyer-2.1.0-py2.py3-none-any.whl (142 kB)\n",
      "   ---------------------------------------- 0.0/142.3 kB ? eta -:--:--\n",
      "   ------------------------------- -------- 112.6/142.3 kB 3.3 MB/s eta 0:00:01\n",
      "   ---------------------------------------- 142.3/142.3 kB 2.1 MB/s eta 0:00:00\n",
      "Installing collected packages: plyer\n",
      "Successfully installed plyer-2.1.0\n"
     ]
    }
   ],
   "source": [
    "!pip install requests\n",
    "!pip install plyer"
   ]
  },
  {
   "cell_type": "code",
   "execution_count": 7,
   "id": "235d8669-82e4-4c2a-b76d-652071522c13",
   "metadata": {},
   "outputs": [],
   "source": [
    "import requests\n",
    "from plyer import notification\n",
    "\n",
    "# Set your OpenWeatherMap API key\n",
    "API_KEY = \"9f7078190bcff055d500c772f05502ab\"  # Replace with your API key from OpenWeatherMap\n",
    "\n",
    "# Get the current weather for a specific city\n",
    "city = \"London\"  # You can change this to your city\n",
    "url = f\"http://api.openweathermap.org/data/2.5/weather?q={city}&appid={API_KEY}&units=metric\"\n",
    "\n",
    "# Fetch data from the API\n",
    "response = requests.get(url)\n",
    "data = response.json()\n",
    "\n",
    "# Check if the request was successful\n",
    "if response.status_code == 200:\n",
    "    # Extract the weather condition and temperature\n",
    "    weather_condition = data['weather'][0]['description']\n",
    "    temperature = data['main']['temp']\n",
    "    \n",
    "    # Logic to check if it's sunny enough for drying clothes\n",
    "    if 'clear' in weather_condition or 'few clouds' in weather_condition:\n",
    "        message = f\"The weather is sunny! Temperature: {temperature}°C. Perfect for drying clothes!\"\n",
    "        title = \"Weather Update\"\n",
    "    else:\n",
    "        message = f\"The weather is not sunny enough. Temperature: {temperature}°C. It's not ideal for drying clothes.\"\n",
    "        title = \"Weather Update\"\n",
    "    \n",
    "    # Send a desktop notification\n",
    "    notification.notify(\n",
    "        title=title,\n",
    "        message=message,\n",
    "        timeout=10  # Time for the notification to stay on the screen\n",
    "    )\n",
    "\n",
    "else:\n",
    "    print(f\"Error fetching weather data: {data['message']}\")\n"
   ]
  },
  {
   "cell_type": "code",
   "execution_count": null,
   "id": "3f7f1b4f-b926-4f25-bdf9-62c280727cc6",
   "metadata": {},
   "outputs": [],
   "source": []
  }
 ],
 "metadata": {
  "kernelspec": {
   "display_name": "Python 3 (ipykernel)",
   "language": "python",
   "name": "python3"
  },
  "language_info": {
   "codemirror_mode": {
    "name": "ipython",
    "version": 3
   },
   "file_extension": ".py",
   "mimetype": "text/x-python",
   "name": "python",
   "nbconvert_exporter": "python",
   "pygments_lexer": "ipython3",
   "version": "3.12.4"
  }
 },
 "nbformat": 4,
 "nbformat_minor": 5
}
