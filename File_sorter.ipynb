{
 "cells": [
  {
   "cell_type": "code",
   "execution_count": 1,
   "id": "aa792c79-a9d2-4619-b2a6-8061c3202f61",
   "metadata": {},
   "outputs": [],
   "source": [
    "import os\n",
    "import shutil\n",
    "from pathlib import Path\n"
   ]
  },
  {
   "cell_type": "code",
   "execution_count": 2,
   "id": "d855b275-4ae4-47aa-b8e8-81c116fa1f92",
   "metadata": {},
   "outputs": [],
   "source": [
    "#Scans the Downloads folder for files.\n",
    "#Sorts files into subdirectories based on their file type or extension (e.g., PDFs go into a \"PDFs\" folder, images go into an \"Images\" folder, etc.).\n",
    "#Creates new folders if they don't exist.\n",
    "#Moves the files into their respective folders.\n",
    "file_categories = {\n",
    "    'Images': ['.jpg', '.jpeg', '.png', '.gif', '.bmp'],\n",
    "    'Documents': ['.pdf', '.docx', '.txt', '.pptx'],\n",
    "    'Audio': ['.mp3', '.wav', '.aac'],\n",
    "    'Videos': ['.mp4', '.mkv', '.avi', '.mov'],\n",
    "    'Archives': ['.zip', '.tar', '.rar', '.7z'],\n",
    "    'Spreadsheets': ['.xlsx', '.xls', '.csv'],\n",
    "    'Torrent':['.tor']\n",
    "}\n"
   ]
  },
  {
   "cell_type": "code",
   "execution_count": 4,
   "id": "5a11706f-662d-4fd1-80a3-8dae08444af1",
   "metadata": {},
   "outputs": [],
   "source": [
    "downloads_folder = str(Path.home() / 'Downloads')  # path to downloads folder\n"
   ]
  },
  {
   "cell_type": "code",
   "execution_count": 5,
   "id": "b8ba2be1-5898-4277-a757-9136450cc65b",
   "metadata": {},
   "outputs": [],
   "source": [
    "for category in file_categories.keys():\n",
    "    category_folder = os.path.join(downloads_folder, category)\n",
    "    if not os.path.exists(category_folder):\n",
    "        os.makedirs(category_folder)\n"
   ]
  },
  {
   "cell_type": "code",
   "execution_count": 6,
   "id": "8f7106ff-655c-4e15-baf0-c7a01b37e23c",
   "metadata": {},
   "outputs": [
    {
     "name": "stdout",
     "output_type": "stream",
     "text": [
      "Moved #Set-Up--2491_P͛aʂS͛w0r𝘿s̩S̈##!.zip to Archives folder.\n",
      "Moved 4ff91c7470814dfe1ba9b6d0821874f8.jpg to Images folder.\n",
      "Moved addd6d78e764eeb487a950fd249f3b02.jpg to Images folder.\n",
      "Moved Alameen Adekunle SW CV.pdf to Documents folder.\n",
      "Moved b1d1244624e16db8298c4a0dfaaaf83a.jpg to Images folder.\n",
      "Moved Definitive Completionist Collection (Final).zip to Archives folder.\n",
      "Moved desert-five-samurai-desktop-wallpaperwaifu-com.mp4 to Videos folder.\n",
      "Moved DS4Windows_3.3.3_x64.zip to Archives folder.\n",
      "Moved igris.3840x2160.mp4 to Videos folder.\n",
      "Moved Lab03-Research Network Monitoring Software.docx to Documents folder.\n",
      "Moved Lab03-Research Network Monitoring Software.pdf to Documents folder.\n",
      "Moved LiveWallpaperPC.com-Drifting-Above-the-Galaxy-Deep-Space-Bedroom-3840x2160.mp4 to Videos folder.\n",
      "Moved LiveWallpaperPC.com-Love-You-Neon-3840x2160.mp4 to Videos folder.\n",
      "Moved Microsoft-Activation-Scripts-master.zip to Archives folder.\n",
      "Moved night-temple-rain-ghost-of-tsushima-desktop-wallpaperwaifu-com.mp4 to Videos folder.\n",
      "Moved Red Dead Redemption 2 - Fitgirl Repack (Crash Fix).rar to Archives folder.\n",
      "Moved ULTIMATE CHAPTER 4 SAVE GAME-158-FINAL-1584545087.zip to Archives folder.\n",
      "Moved ULTIMATE CHAPTER 5 SAVE GAME-158-FINAL-1582407024.zip to Archives folder.\n"
     ]
    }
   ],
   "source": [
    "# Loop through the files in the Downloads folder\n",
    "for filename in os.listdir(downloads_folder):\n",
    "    file_path = os.path.join(downloads_folder, filename)\n",
    "    \n",
    "    # Skip directories\n",
    "    if os.path.isdir(file_path):\n",
    "        continue\n",
    "    \n",
    "    # Check the file extension and categorize\n",
    "    file_extension = os.path.splitext(filename)[1].lower()\n",
    "    \n",
    "    # Find the category for this file\n",
    "    for category, extensions in file_categories.items():\n",
    "        if file_extension in extensions:\n",
    "            category_folder = os.path.join(downloads_folder, category)\n",
    "            destination_path = os.path.join(category_folder, filename)\n",
    "            \n",
    "            # Move the file\n",
    "            shutil.move(file_path, destination_path)\n",
    "            print(f\"Moved {filename} to {category} folder.\")\n",
    "            break\n"
   ]
  },
  {
   "cell_type": "code",
   "execution_count": 7,
   "id": "5a7bee42-afa5-4019-84da-714253f0197d",
   "metadata": {},
   "outputs": [
    {
     "name": "stdout",
     "output_type": "stream",
     "text": [
      "Moved 010101010101010101010.torrent to 'Others' folder.\n",
      "Moved 552.12-notebook-win10-win11-64bit-international-dch-whql.exe to 'Others' folder.\n",
      "Moved Anaconda3-2024.06-1-Windows-x86_64.exe to 'Others' folder.\n",
      "Moved anytrans-ios-web-setup.exe to 'Others' folder.\n",
      "Moved BraveBrowserSetup-BRV011.exe to 'Others' folder.\n",
      "Moved desktop.ini to 'Others' folder.\n",
      "Moved Detection (5vd).exe to 'Others' folder.\n",
      "Moved DODI155DODI155.torrent to 'Others' folder.\n",
      "Moved drw17.5.0.0_trial.exe to 'Others' folder.\n",
      "Moved drw_trial_installer.17134641622875b1548.exe to 'Others' folder.\n",
      "Moved DuckDuckGo.appinstaller to 'Others' folder.\n",
      "Moved EAappInstaller (1).exe to 'Others' folder.\n",
      "Moved EAappInstaller (2).exe to 'Others' folder.\n",
      "Moved EAappInstaller.exe to 'Others' folder.\n",
      "Moved Git-2.47.0.2-64-bit.exe to 'Others' folder.\n",
      "Moved GOT-AR-81.torrent to 'Others' folder.\n",
      "Moved icarefone-bing.exe to 'Others' folder.\n",
      "Moved mmmmmmmmmmmmmmmmmmmm.torrent to 'Others' folder.\n",
      "Moved NDP481-Web.exe to 'Others' folder.\n",
      "Moved OperaGXSetup.exe to 'Others' folder.\n",
      "Moved SteamSetup.exe to 'Others' folder.\n",
      "Moved tor-browser-windows-x86_64-portable-13.0.15.exe to 'Others' folder.\n",
      "Moved UbisoftConnectInstaller.exe to 'Others' folder.\n",
      "Moved utorrent_installer (1).exe to 'Others' folder.\n",
      "Moved utorrent_installer (2).exe to 'Others' folder.\n",
      "Moved utorrent_installer (3).exe to 'Others' folder.\n",
      "Moved utorrent_installer.exe to 'Others' folder.\n",
      "Moved utweb_installer.exe to 'Others' folder.\n",
      "Moved Windows11InstallationAssistant.exe to 'Others' folder.\n",
      "Moved windowsdesktop-runtime-8.0.10-win-x64.exe to 'Others' folder.\n",
      "Moved WindowsPCHealthCheckSetup.msi to 'Others' folder.\n",
      "Moved winrar-x64-700.exe to 'Others' folder.\n",
      "Moved wzsus53.exe to 'Others' folder.\n",
      "Moved [rutor.is].torrent to 'Others' folder.\n"
     ]
    }
   ],
   "source": [
    "#Complete block of code that includes folder for others\n",
    "import os\n",
    "import shutil\n",
    "from pathlib import Path\n",
    "\n",
    "# Define the file types and their corresponding directories\n",
    "file_categories = {\n",
    "    'Images': ['.jpg', '.jpeg', '.png', '.gif', '.bmp'],\n",
    "    'Documents': ['.pdf', '.docx', '.txt', '.pptx'],\n",
    "    'Audio': ['.mp3', '.wav', '.aac'],\n",
    "    'Videos': ['.mp4', '.mkv', '.avi', '.mov'],\n",
    "    'Archives': ['.zip', '.tar', '.rar', '.7z'],\n",
    "    'Spreadsheets': ['.xlsx', '.xls', '.csv'],\n",
    "    'Others': []  # Category for unmatched files (initially empty)\n",
    "}\n",
    "\n",
    "# Set the Downloads folder path\n",
    "downloads_folder = str(Path.home() / 'Downloads')  # This should work for most systems\n",
    "\n",
    "# Create the directories if they don't exist\n",
    "for category in file_categories.keys():\n",
    "    category_folder = os.path.join(downloads_folder, category)\n",
    "    if not os.path.exists(category_folder):\n",
    "        os.makedirs(category_folder)\n",
    "\n",
    "# Loop through the files in the Downloads folder\n",
    "for filename in os.listdir(downloads_folder):\n",
    "    file_path = os.path.join(downloads_folder, filename)\n",
    "    \n",
    "    # Skip directories\n",
    "    if os.path.isdir(file_path):\n",
    "        continue\n",
    "    \n",
    "    # Check the file extension and categorize\n",
    "    file_extension = os.path.splitext(filename)[1].lower()\n",
    "    \n",
    "    # Find the category for this file\n",
    "    matched = False  # Flag to track if the file matches a category\n",
    "    for category, extensions in file_categories.items():\n",
    "        if extensions and file_extension in extensions:  # Only check for extensions if they exist\n",
    "            category_folder = os.path.join(downloads_folder, category)\n",
    "            destination_path = os.path.join(category_folder, filename)\n",
    "            \n",
    "            # Move the file\n",
    "            shutil.move(file_path, destination_path)\n",
    "            print(f\"Moved {filename} to {category} folder.\")\n",
    "            matched = True\n",
    "            break\n",
    "    \n",
    "    # If no category matched, move the file to 'Others'\n",
    "    if not matched:\n",
    "        category_folder = os.path.join(downloads_folder, 'Others')\n",
    "        destination_path = os.path.join(category_folder, filename)\n",
    "        \n",
    "        # Create 'Others' folder if it doesn't exist\n",
    "        if not os.path.exists(category_folder):\n",
    "            os.makedirs(category_folder)\n",
    "        \n",
    "        # Move the file to 'Others'\n",
    "        shutil.move(file_path, destination_path)\n",
    "        print(f\"Moved {filename} to 'Others' folder.\")\n"
   ]
  },
  {
   "cell_type": "code",
   "execution_count": null,
   "id": "1a22c6da-dd8a-439b-9489-09a5a528fd86",
   "metadata": {},
   "outputs": [],
   "source": []
  }
 ],
 "metadata": {
  "kernelspec": {
   "display_name": "Python 3 (ipykernel)",
   "language": "python",
   "name": "python3"
  },
  "language_info": {
   "codemirror_mode": {
    "name": "ipython",
    "version": 3
   },
   "file_extension": ".py",
   "mimetype": "text/x-python",
   "name": "python",
   "nbconvert_exporter": "python",
   "pygments_lexer": "ipython3",
   "version": "3.12.4"
  }
 },
 "nbformat": 4,
 "nbformat_minor": 5
}
