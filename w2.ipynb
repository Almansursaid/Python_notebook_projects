{
 "cells": [
  {
   "cell_type": "code",
   "execution_count": 8,
   "id": "46437e0a-be36-4398-91ea-f6c8a61afea9",
   "metadata": {},
   "outputs": [
    {
     "name": "stdout",
     "output_type": "stream",
     "text": [
      "Requirement already satisfied: requests in c:\\programdata\\anaconda3\\lib\\site-packages (2.32.2)\n",
      "Requirement already satisfied: schedule in c:\\programdata\\anaconda3\\lib\\site-packages (1.2.2)\n",
      "Requirement already satisfied: charset-normalizer<4,>=2 in c:\\programdata\\anaconda3\\lib\\site-packages (from requests) (2.0.4)\n",
      "Requirement already satisfied: idna<4,>=2.5 in c:\\programdata\\anaconda3\\lib\\site-packages (from requests) (3.7)\n",
      "Requirement already satisfied: urllib3<3,>=1.21.1 in c:\\programdata\\anaconda3\\lib\\site-packages (from requests) (2.2.2)\n",
      "Requirement already satisfied: certifi>=2017.4.17 in c:\\programdata\\anaconda3\\lib\\site-packages (from requests) (2024.6.2)\n"
     ]
    }
   ],
   "source": [
    "!pip install requests schedule\n",
    "\n",
    "\n"
   ]
  },
  {
   "cell_type": "code",
   "execution_count": null,
   "id": "29938e26-859e-4e7e-8de8-b29053b4bc04",
   "metadata": {},
   "outputs": [],
   "source": [
    "import requests\n",
    "import tkinter as tk\n",
    "from tkinter import messagebox\n",
    "import schedule\n",
    "import time\n",
    "\n",
    "# Replace with your OpenWeatherMap API key\n",
    "API_KEY = \"9f7078190bcff055d500c772f05502ab\"\n",
    "CITY = \"London\"  # Change to your city\n",
    "API_URL = f\"http://api.openweathermap.org/data/2.5/weather?q={CITY}&appid={API_KEY}&units=metric\"\n",
    "\n",
    "# Function to fetch weather data\n",
    "def get_weather():\n",
    "    try:\n",
    "        response = requests.get(API_URL)\n",
    "        data = response.json()\n",
    "\n",
    "        if data[\"cod\"] == 200:  # Check if the request is successful\n",
    "            temp = data[\"main\"][\"temp\"]\n",
    "            weather_description = data[\"weather\"][0][\"description\"]\n",
    "\n",
    "            # Check if it's sunny enough for drying clothes\n",
    "            if \"clear\" in weather_description.lower() or \"sun\" in weather_description.lower():\n",
    "                show_popup(f\"The temperature is {temp}°C. It's sunny! Good day to dry clothes!\")\n",
    "            else:\n",
    "                show_popup(f\"The temperature is {temp}°C. It's not sunny enough for drying clothes.\")\n",
    "        else:\n",
    "            print(\"Error fetching data:\", data[\"message\"])\n",
    "\n",
    "    except Exception as e:\n",
    "        print(\"Error:\", e)\n",
    "\n",
    "# Function to show pop-up notification\n",
    "def show_popup(message):\n",
    "    root = tk.Tk()\n",
    "    root.withdraw()  # Hide the main window\n",
    "    messagebox.showinfo(\"Weather Notification\", message)\n",
    "\n",
    "# Schedule function to check weather daily at 10:00 AM\n",
    "def daily_weather_check():\n",
    "    schedule.every().day.at(\"17:43\").do(get_weather)\n",
    "\n",
    "    while True:\n",
    "        schedule.run_pending()\n",
    "        time.sleep(1)  # Check every second\n",
    "\n",
    "# Run the daily weather check in the background\n",
    "if __name__ == \"__main__\":\n",
    "    daily_weather_check()\n"
   ]
  }
 ],
 "metadata": {
  "kernelspec": {
   "display_name": "Python 3 (ipykernel)",
   "language": "python",
   "name": "python3"
  },
  "language_info": {
   "codemirror_mode": {
    "name": "ipython",
    "version": 3
   },
   "file_extension": ".py",
   "mimetype": "text/x-python",
   "name": "python",
   "nbconvert_exporter": "python",
   "pygments_lexer": "ipython3",
   "version": "3.12.4"
  }
 },
 "nbformat": 4,
 "nbformat_minor": 5
}
